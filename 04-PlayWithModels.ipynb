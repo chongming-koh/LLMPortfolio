{
 "cells": [
  {
   "cell_type": "code",
   "execution_count": 10,
   "id": "cd1b4763-3445-48c9-b675-15cbaa0e9e2b",
   "metadata": {},
   "outputs": [],
   "source": [
    "import os\n",
    "import requests\n",
    "from IPython.display import Markdown, display, update_display\n",
    "from bs4 import BeautifulSoup\n",
    "from openai import OpenAI\n",
    "from selenium import webdriver\n",
    "from selenium.webdriver.chrome.options import Options\n",
    "import time"
   ]
  },
  {
   "cell_type": "markdown",
   "id": "cf42ec1e-2d0d-4cbb-96fb-c65c6109cedf",
   "metadata": {},
   "source": [
    "# Connecting to Nebius LLM via API\n",
    "Setup connection to Nebius API"
   ]
  },
  {
   "cell_type": "code",
   "execution_count": 29,
   "id": "79655531-cddc-4642-bea5-45b4e78185c4",
   "metadata": {},
   "outputs": [],
   "source": [
    "#Find the key file\n",
    "\n",
    "os.chdir(\"C:\\\\Users\\\\vital\\\\PythonStuff\\\\keys\")\n",
    "cwd = os.getcwd() \n",
    "\n",
    "with open(\"nebius_api_key\", \"r\") as file:\n",
    "    nebius_api_key = file.read().strip()\n",
    "\n",
    "os.environ[\"NEBIUS_API_KEY\"] = nebius_api_key\n",
    "\n",
    "# Nebius uses the same OpenAI() class, but with additional details\n",
    "nebius_client = OpenAI(\n",
    "    base_url=\"https://api.studio.nebius.ai/v1/\",\n",
    "    api_key=os.environ.get(\"NEBIUS_API_KEY\"),\n",
    ")\n",
    "\n",
    "llama_8b_model = \"meta-llama/Meta-Llama-3.1-8B-Instruct\"\n",
    "llama_70b_model =\"meta-llama/Llama-3.3-70B-Instruct\"\n",
    "gemma_9b_model = \"google/gemma-2-9b-it-fast\"\n",
    "Qwen2_5_72B_model = \"Qwen/Qwen2.5-72B-Instruct\"\n",
    "DeepSeek_V33024 =\"deepseek-ai/DeepSeek-V3-0324\"\n",
    "openai_20b = \"openai/gpt-oss-20b\"\n",
    "Hermes_4_70B_model =\"NousResearch/Hermes-4-70B\""
   ]
  },
  {
   "cell_type": "code",
   "execution_count": 55,
   "id": "0b0666e9-eec5-4870-835b-2d633fc732b0",
   "metadata": {},
   "outputs": [],
   "source": [
    "#userPrompt = \"How many words are there in your answer to this prompt?\"\n",
    "userPrompt = \"\"\"A man has $84552 today. The annuity earns 4% annually. His age is 68 today.\n",
    "If he choose not to go for \"cpf life\", he will get monthly $535 for 20 years.\n",
    "If he choose to go for \"cpf life\", he will get monthly $470 every month for 31 years.\n",
    "He decided to choose \"cpf life\", but live till 88 years old. How many % did he lose out?\n",
    "\"\"\""
   ]
  },
  {
   "cell_type": "markdown",
   "id": "24446f0c-f703-4bba-8de1-e0c1c8d25267",
   "metadata": {},
   "source": [
    "# Function to chat with LLM model"
   ]
  },
  {
   "cell_type": "code",
   "execution_count": 54,
   "id": "bf843747-7ecb-428d-b3cf-ca5e56483242",
   "metadata": {},
   "outputs": [],
   "source": [
    "def answer_with_llm(prompt: str,\n",
    "                    system_prompt=\"You are a helpful assistant\",\n",
    "                    max_tokens=1048,\n",
    "                    client=nebius_client,\n",
    "                    model=llama_8b_model,\n",
    "                    prettify=True,\n",
    "                    stream=False,\n",
    "                    displayMode=\"markdown\",\n",
    "                    temperature=0.7) -> str:\n",
    "\n",
    "    messages = []\n",
    "\n",
    "    if system_prompt:\n",
    "        messages.append(\n",
    "            {\n",
    "                \"role\": \"system\",\n",
    "                \"content\": system_prompt\n",
    "            }\n",
    "        )\n",
    "\n",
    "    messages.append(\n",
    "        {\n",
    "            \"role\": \"user\",\n",
    "            \"content\": prompt\n",
    "        }\n",
    "    )\n",
    "    if not stream:\n",
    "        completion = client.chat.completions.create(\n",
    "            model=model,\n",
    "            messages=messages,\n",
    "            max_tokens=max_tokens,\n",
    "            temperature=temperature\n",
    "        )\n",
    "        return completion.choices[0].message.content\n",
    "\n",
    "    # ✅ Streaming mode\n",
    "    stream_resp = client.chat.completions.create(\n",
    "        model=model,\n",
    "        messages=messages,\n",
    "        max_tokens=max_tokens,\n",
    "        temperature=temperature,\n",
    "        stream=True\n",
    "    )\n",
    "\n",
    "    \n",
    "    print(f\"🔁 Streaming from model: {model}\\n\")\n",
    "    full_text = \"\"\n",
    "\n",
    "    # Only create Markdown display handle if needed\n",
    "    md_handle = None\n",
    "    if displayMode == \"markdown\":\n",
    "        md_handle = display(Markdown(\"\"), display_id=True)\n",
    "\n",
    "    # ✅ Single loop\n",
    "    for chunk in stream_resp:\n",
    "        if chunk.choices and chunk.choices[0].delta.content:\n",
    "            token = chunk.choices[0].delta.content\n",
    "            full_text += token\n",
    "\n",
    "            if displayMode == \"markdown\":\n",
    "                update_display(Markdown(full_text), display_id=md_handle.display_id)\n",
    "            elif displayMode == \"console\":\n",
    "                print(token, end=\"\", flush=True)\n",
    "\n",
    "    print(\"\\n✅ Done streaming.\\n\")\n",
    "    return None\n",
    "    \n",
    "    '''\n",
    "    full_text = \"\"\n",
    "    print(f\"🔁 Streaming from model: {model}\\n\")\n",
    "    for chunk in stream_resp:\n",
    "        if chunk.choices and chunk.choices[0].delta.content:\n",
    "            token = chunk.choices[0].delta.content\n",
    "            print(token, end=\"\", flush=True)\n",
    "            full_text += token\n",
    "\n",
    "    print(\"\\n✅ Done streaming.\\n\")\n",
    "    return full_text\n",
    "    '''\n",
    "    #if prettify:\n",
    "    #    return prettify_string(completion.choices[0].message.content)\n",
    "   # else:\n",
    "    \n",
    "    "
   ]
  },
  {
   "cell_type": "code",
   "execution_count": 14,
   "id": "dc41e868-1679-4744-b0aa-a21cc3c72ed3",
   "metadata": {},
   "outputs": [],
   "source": [
    "def display_answer(prompt,model,stream,displayMode):\n",
    "    summary = answer_with_llm(prompt, model=model, stream=stream, displayMode=displayMode)\n",
    "    if not stream:\n",
    "        if displayMode == \"markdown\":\n",
    "            display(Markdown(summary))\n",
    "        else:\n",
    "            print(summary)\n",
    "    #display(Markdown(summary))"
   ]
  },
  {
   "cell_type": "code",
   "execution_count": 56,
   "id": "a7728d12-62e8-47e9-ac1a-84ede5ab8539",
   "metadata": {},
   "outputs": [
    {
     "name": "stdout",
     "output_type": "stream",
     "text": [
      "🔁 Streaming from model: meta-llama/Meta-Llama-3.1-8B-Instruct\n",
      "\n"
     ]
    },
    {
     "data": {
      "text/markdown": [
       "Let's break down the calculations:\n",
       "\n",
       "**Scenario 1: Without \"CPF Life\"**\n",
       "\n",
       "* Monthly payment: $535\n",
       "* Duration: 20 years\n",
       "* Total payments: $535 x 12 x 20 = $128,400\n",
       "\n",
       "**Scenario 2: With \"CPF Life\"**\n",
       "\n",
       "* Monthly payment: $470\n",
       "* Duration: 31 years (since he lives till 88, we need to calculate the payments for 20 years after age 68, plus 11 years before that)\n",
       "\t+ First 20 years: $470 x 12 x 20 = $113,600\n",
       "\t+ Remaining 11 years: $470 x 12 x 11 = $61,324\n",
       "\t+ Total payments: $113,600 + $61,324 = $174,924\n",
       "\n",
       "Since the man lives till 88, we need to calculate the present value of the payments for 20 years after age 68, and the payments for the remaining 8 years (88-68=20).\n",
       "\n",
       "**Present Value Calculation**\n",
       "\n",
       "Using a present value calculator or formula, we can calculate the present value of the payments for 20 years after age 68, with an interest rate of 4%:\n",
       "\n",
       "PV = $113,600 / (1 + 0.04)^20 ≈ $44,919\n",
       "\n",
       "Adding the present value of the remaining 8 years:\n",
       "\n",
       "PV = $44,919 + ($61,324 / (1 + 0.04)^8) ≈ $44,919 + $34,439 ≈ $79,358\n",
       "\n",
       "**Loss Calculation**\n",
       "\n",
       "To calculate the loss, we need to compare the present value of the payments without \"CPF Life\" ($128,400) to the present value of the payments with \"CPF Life\" ($79,358).\n",
       "\n",
       "Loss = ($128,400 - $79,358) / $128,400 ≈ 0.382 or 38.2%\n",
       "\n",
       "So, the man would lose approximately 38.2% of the original amount by choosing \"CPF Life\"."
      ],
      "text/plain": [
       "<IPython.core.display.Markdown object>"
      ]
     },
     "metadata": {},
     "output_type": "display_data"
    },
    {
     "name": "stdout",
     "output_type": "stream",
     "text": [
      "\n",
      "✅ Done streaming.\n",
      "\n"
     ]
    }
   ],
   "source": [
    "display_answer(userPrompt,llama_8b_model,True,\"markdown\");"
   ]
  },
  {
   "cell_type": "code",
   "execution_count": 57,
   "id": "9ca4d1e9-7bdf-4148-856e-7c085ee1b20d",
   "metadata": {},
   "outputs": [
    {
     "name": "stdout",
     "output_type": "stream",
     "text": [
      "🔁 Streaming from model: Qwen/Qwen2.5-72B-Instruct\n",
      "\n"
     ]
    },
    {
     "data": {
      "text/markdown": [
       "To determine how much the man loses out by choosing \"CPF Life\" over not choosing it, we need to calculate the total amount of money he would receive under each option and then compare them.\n",
       "\n",
       "### Option 1: Not Choosing CPF Life\n",
       "- Monthly payment: $535\n",
       "- Duration: 20 years (or 240 months)\n",
       "\n",
       "Total amount received:\n",
       "\\[ \\text{Total} = 535 \\times 240 = 128,400 \\]\n",
       "\n",
       "### Option 2: Choosing CPF Life\n",
       "- Monthly payment: $470\n",
       "- Duration: 31 years (or 372 months)\n",
       "- Actual lifespan: 88 years - 68 years = 20 years (or 240 months)\n",
       "\n",
       "Total amount received in 20 years:\n",
       "\\[ \\text{Total} = 470 \\times 240 = 112,800 \\]\n",
       "\n",
       "### Comparison\n",
       "To find the percentage loss, we compare the total amount received from each option:\n",
       "\n",
       "\\[ \\text{Percentage Loss} = \\left( \\frac{\\text{Amount from Option 1} - \\text{Amount from Option 2}}{\\text{Amount from Option 1}} \\right) \\times 100 \\]\n",
       "\n",
       "Substituting the values:\n",
       "\n",
       "\\[ \\text{Percentage Loss} = \\left( \\frac{128,400 - 112,800}{128,400} \\right) \\times 100 \\]\n",
       "\n",
       "\\[ \\text{Percentage Loss} = \\left( \\frac{15,600}{128,400} \\right) \\times 100 \\]\n",
       "\n",
       "\\[ \\text{Percentage Loss} \\approx 12.15\\% \\]\n",
       "\n",
       "Therefore, by choosing \"CPF Life\" and living until 88 years old, the man loses out on approximately 12.15% of the total amount he would have received if he had chosen not to go for \"CPF Life\"."
      ],
      "text/plain": [
       "<IPython.core.display.Markdown object>"
      ]
     },
     "metadata": {},
     "output_type": "display_data"
    },
    {
     "name": "stdout",
     "output_type": "stream",
     "text": [
      "\n",
      "✅ Done streaming.\n",
      "\n"
     ]
    }
   ],
   "source": [
    "display_answer(userPrompt,Qwen2_5_72B_model,True,\"markdown\");"
   ]
  },
  {
   "cell_type": "code",
   "execution_count": 58,
   "id": "af3bbd49-9fc5-4d48-876b-e03bd5614654",
   "metadata": {},
   "outputs": [
    {
     "name": "stdout",
     "output_type": "stream",
     "text": [
      "🔁 Streaming from model: deepseek-ai/DeepSeek-V3-0324\n",
      "\n"
     ]
    },
    {
     "data": {
      "text/markdown": [
       "To determine how much the man loses out by choosing the CPF LIFE option but only living until 88 years old (20 years after his current age), we'll compare the total amounts received under both scenarios.\n",
       "\n",
       "### **Given:**\n",
       "- **Current Age:** 68 years\n",
       "- **Amount Today:** \\$84,552\n",
       "- **Annual Interest Rate:** 4%\n",
       "- **CPF LIFE Option:**\n",
       "  - **Monthly Payout:** \\$470\n",
       "  - **Payout Duration:** 31 years (until age 99)\n",
       "- **Non-CPF LIFE Option:**\n",
       "  - **Monthly Payout:** \\$535\n",
       "  - **Payout Duration:** 20 years (until age 88)\n",
       "\n",
       "### **Step 1: Calculate Future Value of the Lump Sum**\n",
       "\n",
       "First, let's find out how much the lump sum (\\$84,552) would grow if invested at 4% annually over 20 years (until age 88).\n",
       "\n",
       "\\[\n",
       "FV = PV \\times (1 + r)^n\n",
       "\\]\n",
       "\n",
       "Where:\n",
       "- \\( PV = \\$84,552 \\)\n",
       "- \\( r = 4\\% = 0.04 \\)\n",
       "- \\( n = 20 \\) years\n",
       "\n",
       "\\[\n",
       "FV = 84,552 \\times (1.04)^{20} \\approx 84,552 \\times 2.19112 \\approx \\$185,265.34\n",
       "\\]\n",
       "\n",
       "### **Step 2: Calculate Total Payout Under CPF LIFE (Until Age 88)**\n",
       "\n",
       "If the man chooses CPF LIFE but lives only until 88, he receives \\$470 per month for 20 years (240 months):\n",
       "\n",
       "\\[\n",
       "\\text{Total Payout} = 470 \\times 240 = \\$112,800\n",
       "\\]\n",
       "\n",
       "### **Step 3: Calculate Total Payout Under Non-CPF LIFE (Until Age 88)**\n",
       "\n",
       "Under the Non-CPF LIFE option, he receives \\$535 per month for 20 years (240 months):\n",
       "\n",
       "\\[\n",
       "\\text{Total Payout} = 535 \\times 240 = \\$128,400\n",
       "\\]\n",
       "\n",
       "### **Step 4: Compare the Two Scenarios**\n",
       "\n",
       "1. **CPF LIFE Payout:** \\$112,800\n",
       "2. **Non-CPF LIFE Payout:** \\$128,400\n",
       "\n",
       "However, the **opportunity cost** of not taking the Non-CPF LIFE option is the **future value of the lump sum (\\$185,265.34)** minus the total CPF LIFE payouts (\\$112,800):\n",
       "\n",
       "\\[\n",
       "\\text{Loss} = 185,265.34 - 112,800 = \\$72,465.34\n",
       "\\]\n",
       "\n",
       "But since the question asks for the **percentage loss** relative to the **Non-CPF LIFE payout**, we calculate:\n",
       "\n",
       "\\[\n",
       "\\% \\text{Loss} = \\left( \\frac{128,400 - 112,800}{128,400} \\right) \\times 100 \\approx \\left( \\frac{15,600}{128,400} \\right) \\times 100 \\approx 12.15\\%\n",
       "\\]\n",
       "\n",
       "Alternatively, if comparing to the **future value of the lump sum**, the loss percentage would be:\n",
       "\n",
       "\\[\n",
       "\\% \\text{Loss} = \\left( \\frac{185,265.34 - 112,800}{185,265.34} \\right) \\times 100 \\approx 39.1\\%\n",
       "\\]\n",
       "\n",
       "**However, the most relevant comparison is between the two payout options (CPF LIFE vs. Non-CPF LIFE) for the same lifespan (20 years).** \n",
       "\n",
       "Thus, the man loses out by:\n",
       "\n",
       "\\[\n",
       "\\boxed{12.15\\%}\n",
       "\\]\n",
       "\n",
       "### **Final Answer:**\n",
       "\n",
       "\\boxed{12.15\\%}"
      ],
      "text/plain": [
       "<IPython.core.display.Markdown object>"
      ]
     },
     "metadata": {},
     "output_type": "display_data"
    },
    {
     "name": "stdout",
     "output_type": "stream",
     "text": [
      "\n",
      "✅ Done streaming.\n",
      "\n"
     ]
    }
   ],
   "source": [
    "display_answer(userPrompt,DeepSeek_V33024,True,\"markdown\");"
   ]
  },
  {
   "cell_type": "code",
   "execution_count": 59,
   "id": "c73a054b-5267-456e-b035-49a7a2f1aaa5",
   "metadata": {},
   "outputs": [
    {
     "name": "stdout",
     "output_type": "stream",
     "text": [
      "🔁 Streaming from model: google/gemma-2-9b-it-fast\n",
      "\n"
     ]
    },
    {
     "data": {
      "text/markdown": [
       "Here's how to break down this problem to figure out the percentage loss:\n",
       "\n",
       "**1. Calculate the total amount received from the monthly payout without CPF Life:**\n",
       "\n",
       "* Monthly payout: $535\n",
       "* Number of years: 20\n",
       "* Number of months: 20 years * 12 months/year = 240 months\n",
       "* Total amount received: $535/month * 240 months = $128,400\n",
       "\n",
       "**2. Calculate the total amount received from CPF Life:**\n",
       "\n",
       "* Monthly payout: $470\n",
       "* Number of years: 31\n",
       "* Number of months: 31 years * 12 months/year = 372 months\n",
       "* Total amount received: $470/month * 372 months = $174,840\n",
       "\n",
       "**3. Calculate the total amount the man would have received from his $84,552 investment without CPF Life:**\n",
       "\n",
       "* This requires knowing the exact investment strategy and potential returns.  Since we only know about the 4% annual annuity, we can make an estimate.  \n",
       "\n",
       "**4. Estimate the amount from the investment:**\n",
       "\n",
       "* Assume the investment grows consistently at 4% annually for 20 years (the duration of the payout without CPF Life).\n",
       "* We can use a compound interest calculator to find this.  \n",
       "\n",
       "**5. Compare the totals:**\n",
       "\n",
       "* Once you have the estimated total from the investment, compare it to the total from CPF Life ($174,840).\n",
       "\n",
       "**6. Calculate the percentage loss:**\n",
       "\n",
       "*  (Estimated investment amount - $174,840) / Estimated investment amount * 100%\n",
       "\n",
       "**Important Considerations:**\n",
       "\n",
       "* **Investment Growth:** The 4% annual return is an estimate.  Investment returns can fluctuate. \n",
       "* **Taxes:** Taxes on investment income may affect the final amount received.\n",
       "* **Inflation:**  The purchasing power of money decreases over time due to inflation.  \n",
       "\n",
       "**To get a more precise answer, you'd need:**\n",
       "\n",
       "* The exact details of the investment strategy the man could have used.\n",
       "*  Tax implications of both scenarios.\n",
       "\n",
       "\n",
       "\n",
       "Let me know if you have more information about the investment strategy, and I can help you with a more accurate calculation. \n"
      ],
      "text/plain": [
       "<IPython.core.display.Markdown object>"
      ]
     },
     "metadata": {},
     "output_type": "display_data"
    },
    {
     "name": "stdout",
     "output_type": "stream",
     "text": [
      "\n",
      "✅ Done streaming.\n",
      "\n"
     ]
    }
   ],
   "source": [
    "display_answer(userPrompt,gemma_9b_model,True,\"markdown\");"
   ]
  },
  {
   "cell_type": "code",
   "execution_count": 60,
   "id": "0d2e610e-2141-4237-884a-8e9d70e25920",
   "metadata": {},
   "outputs": [
    {
     "name": "stdout",
     "output_type": "stream",
     "text": [
      "🔁 Streaming from model: openai/gpt-oss-20b\n",
      "\n"
     ]
    },
    {
     "data": {
      "text/markdown": [
       "**Answer – about a 12 % loss**\n",
       "\n",
       "| Scenario | Monthly payment | Years | Months | Total cash received |\n",
       "|----------|-----------------|-------|--------|---------------------|\n",
       "| **1. No “cpf‑life”** | \\$535 | 20 | 240 | \\$535 × 240 = **\\$128 400** |\n",
       "| **2. “Cpf‑life” (but dies at 88)** | \\$470 | 20 | 240 | \\$470 × 240 = **\\$112 800** |\n",
       "\n",
       "*Difference in total cash flow*  \n",
       "\\[\n",
       "\\Delta = 128\\,400 - 112\\,800 = \\$15\\,600\n",
       "\\]\n",
       "\n",
       "*Percentage loss relative to the better option*  \n",
       "\n",
       "\\"
      ],
      "text/plain": [
       "<IPython.core.display.Markdown object>"
      ]
     },
     "metadata": {},
     "output_type": "display_data"
    },
    {
     "name": "stdout",
     "output_type": "stream",
     "text": [
      "\n",
      "✅ Done streaming.\n",
      "\n"
     ]
    }
   ],
   "source": [
    "display_answer(userPrompt,openai_20b,True,\"markdown\");"
   ]
  },
  {
   "cell_type": "code",
   "execution_count": 61,
   "id": "7e4fc114-48b6-4073-bd01-eb340a3184ed",
   "metadata": {},
   "outputs": [
    {
     "name": "stdout",
     "output_type": "stream",
     "text": [
      "🔁 Streaming from model: NousResearch/Hermes-4-70B\n",
      "\n"
     ]
    },
    {
     "data": {
      "text/markdown": [
       "To calculate the percentage lost by choosing CPF life, we need to compare the total amount received from both options.\n",
       "\n",
       "Option 1: Not going for CPF Life\n",
       "Monthly payment = $535\n",
       "Number of years = 20\n",
       "Total amount = Monthly payment * (Number of years * 12)\n",
       "Total amount = $535 * (20 * 12)\n",
       "Total amount = $128,400\n",
       "\n",
       "Option 2: Going for CPF Life\n",
       "Monthly payment = $470\n",
       "Number of years = 31\n",
       "Total amount = Monthly payment * (Number of years * 12)\n",
       "Total amount = $470 * (31 * 12)\n",
       "Total amount = $174,720\n",
       "\n",
       "Since he lives till 88 years old, he only receives payments for 20 years instead of 31 years.\n",
       "Total amount received = Monthly payment * (20 * 12)\n",
       "Total amount received = $470 * (20 * 12)\n",
       "Total amount received = $112,800\n",
       "\n",
       "Now, let's calculate the difference in the total amount received between the two options:\n",
       "Difference = Total amount (Option 1) - Total amount received (Option 2)\n",
       "Difference = $128,400 - $112,800\n",
       "Difference = $15,600\n",
       "\n",
       "To calculate the percentage lost, we divide the difference by the total amount received in Option 1 and multiply by 100:\n",
       "Percentage lost = (Difference / Total amount (Option 1)) * 100\n",
       "Percentage lost = ($15,600 / $128,400) * 100\n",
       "Percentage lost = 12.15%\n",
       "\n",
       "By choosing CPF Life, he lost out on 12.15% of the total amount he would have received if he had not gone for CPF Life."
      ],
      "text/plain": [
       "<IPython.core.display.Markdown object>"
      ]
     },
     "metadata": {},
     "output_type": "display_data"
    },
    {
     "name": "stdout",
     "output_type": "stream",
     "text": [
      "\n",
      "✅ Done streaming.\n",
      "\n"
     ]
    }
   ],
   "source": [
    "display_answer(userPrompt,Hermes_4_70B_model,True,\"markdown\");"
   ]
  },
  {
   "cell_type": "code",
   "execution_count": null,
   "id": "70b38787-4ab3-4e53-a606-968da1042a7f",
   "metadata": {},
   "outputs": [],
   "source": []
  }
 ],
 "metadata": {
  "kernelspec": {
   "display_name": "Python [conda env:base] *",
   "language": "python",
   "name": "conda-base-py"
  },
  "language_info": {
   "codemirror_mode": {
    "name": "ipython",
    "version": 3
   },
   "file_extension": ".py",
   "mimetype": "text/x-python",
   "name": "python",
   "nbconvert_exporter": "python",
   "pygments_lexer": "ipython3",
   "version": "3.12.3"
  }
 },
 "nbformat": 4,
 "nbformat_minor": 5
}
