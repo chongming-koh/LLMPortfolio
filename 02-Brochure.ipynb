{
 "cells": [
  {
   "cell_type": "code",
   "execution_count": 1,
   "id": "cd1b4763-3445-48c9-b675-15cbaa0e9e2b",
   "metadata": {},
   "outputs": [],
   "source": [
    "import os\n",
    "import requests\n",
    "from IPython.display import Markdown, display\n",
    "from bs4 import BeautifulSoup\n",
    "from openai import OpenAI\n",
    "from selenium import webdriver\n",
    "from selenium.webdriver.chrome.options import Options\n",
    "import time"
   ]
  },
  {
   "cell_type": "markdown",
   "id": "cf42ec1e-2d0d-4cbb-96fb-c65c6109cedf",
   "metadata": {},
   "source": [
    "# Connecting to Nebius LLM via API\n",
    "Setup connection to Nebius API"
   ]
  },
  {
   "cell_type": "code",
   "execution_count": 2,
   "id": "79655531-cddc-4642-bea5-45b4e78185c4",
   "metadata": {},
   "outputs": [],
   "source": [
    "#Find the key file\n",
    "\n",
    "os.chdir(\"C:\\\\Users\\\\vital\\\\PythonStuff\\\\keys\")\n",
    "cwd = os.getcwd() \n",
    "\n",
    "with open(\"nebius_api_key\", \"r\") as file:\n",
    "    nebius_api_key = file.read().strip()\n",
    "\n",
    "os.environ[\"NEBIUS_API_KEY\"] = nebius_api_key\n",
    "\n",
    "# Nebius uses the same OpenAI() class, but with additional details\n",
    "nebius_client = OpenAI(\n",
    "    base_url=\"https://api.studio.nebius.ai/v1/\",\n",
    "    api_key=os.environ.get(\"NEBIUS_API_KEY\"),\n",
    ")\n",
    "\n",
    "llama_8b_model = \"meta-llama/Meta-Llama-3.1-8B-Instruct\"\n",
    "llama_70b_model =\"meta-llama/Llama-3.3-70B-Instruct\"\n"
   ]
  },
  {
   "cell_type": "markdown",
   "id": "c381989e-4384-46a8-bd8b-7988c019f833",
   "metadata": {},
   "source": [
    "# A Class to represent a Webpage"
   ]
  },
  {
   "cell_type": "code",
   "execution_count": 3,
   "id": "822e0a5a-7c69-4b9e-b0cb-f0b30c7af0eb",
   "metadata": {},
   "outputs": [],
   "source": [
    "class Website:\n",
    "    def __init__(self, url):\n",
    "        self.url = url\n",
    "        self.title = \"\"\n",
    "        self.text = \"\"\n",
    "        self.links = []   # NEW: store hyperlinks\n",
    "        self.scrape()\n",
    "\n",
    "    def scrape(self):\n",
    "        try:\n",
    "            # Chrome options\n",
    "            chrome_options = Options()\n",
    "            chrome_options.add_argument(\"--headless\")\n",
    "            chrome_options.add_argument(\"--no-sandbox\")\n",
    "            chrome_options.add_argument(\"--disable-dev-shm-usage\")\n",
    "            chrome_options.add_argument(\"--disable-gpu\")\n",
    "            chrome_options.add_argument(\"--window-size=1920,1080\")\n",
    "            chrome_options.add_argument(\"--user-agent=Mozilla/5.0 (Windows NT 10.0; Win64; x64) AppleWebKit/537.36 (KHTML, like Gecko) Chrome/120.0.0.0 Safari/537.36\")\n",
    "\n",
    "            # Try to find Chrome\n",
    "            chrome_paths = [\n",
    "                r\"C:\\Program Files\\Google\\Chrome\\Application\\chrome.exe\",\n",
    "                r\"C:\\Program Files (x86)\\Google\\Chrome\\Application\\chrome.exe\",\n",
    "                r\"C:\\Users\\{}\\AppData\\Local\\Google\\Chrome\\Application\\chrome.exe\".format(os.getenv('USERNAME')),\n",
    "            ]\n",
    "\n",
    "            chrome_binary = None\n",
    "            for path in chrome_paths:\n",
    "                if os.path.exists(path):\n",
    "                    chrome_binary = path\n",
    "                    break\n",
    "\n",
    "            if chrome_binary:\n",
    "                chrome_options.binary_location = chrome_binary\n",
    "\n",
    "            # Create driver\n",
    "            driver = webdriver.Chrome(options=chrome_options)\n",
    "            driver.set_page_load_timeout(30)\n",
    "\n",
    "            #print(f\"🔍 Loading: {self.url}\")\n",
    "            driver.get(self.url)\n",
    "\n",
    "            # Wait for page to load\n",
    "            time.sleep(5)\n",
    "\n",
    "            # Try to wait for main content\n",
    "            try:\n",
    "                WebDriverWait(driver, 10).until(\n",
    "                    EC.presence_of_element_located((By.TAG_NAME, \"main\"))\n",
    "                )\n",
    "            except Exception:\n",
    "                try:\n",
    "                    WebDriverWait(driver, 10).until(\n",
    "                        EC.presence_of_element_located((By.TAG_NAME, \"body\"))\n",
    "                    )\n",
    "                except Exception:\n",
    "                    pass  # Continue anyway\n",
    "\n",
    "            # Get title and page source\n",
    "            self.title = driver.title\n",
    "            page_source = driver.page_source\n",
    "            driver.quit()\n",
    "\n",
    "            print(f\"✅ Page loaded: {self.title}\")\n",
    "\n",
    "            # Parse with BeautifulSoup\n",
    "            soup = BeautifulSoup(page_source, 'html.parser')\n",
    "\n",
    "            # Remove unwanted elements\n",
    "            for element in soup([\"script\", \"style\", \"img\", \"input\", \"button\", \"nav\", \"footer\", \"header\"]):\n",
    "                element.decompose()\n",
    "\n",
    "            # Get main content\n",
    "            main = soup.find('main') or soup.find('article') or soup.find('.content') or soup.find('body')\n",
    "            if main:\n",
    "                self.text = main.get_text(separator=\"\\n\", strip=True)\n",
    "            else:\n",
    "                self.text = soup.get_text(separator=\"\\n\", strip=True)\n",
    "\n",
    "            # Clean up text\n",
    "            lines = [line.strip() for line in self.text.split('\\n') if line.strip() and len(line.strip()) > 2]\n",
    "            self.text = '\\n'.join(lines[:200])  # Limit to first 200 lines\n",
    "\n",
    "            #print(f\"📄 Extracted {len(self.text)} characters\")\n",
    "\n",
    "            # NEW: Extract hyperlinks\n",
    "            links = [a.get('href') for a in soup.find_all('a', href=True)]\n",
    "            # Filter out empty, javascript:, and mailto: links\n",
    "            self.links = [link for link in links if link and not link.startswith(('javascript:', 'mailto:'))]\n",
    "\n",
    "            #print(f\"📄 Extracted {len(self.text)} characters and {len(self.links)} links\")\n",
    "\n",
    "        except Exception as e:\n",
    "            print(f\"❌ Error occurred: {e}\")\n",
    "            self.title = \"Error occurred\"\n",
    "            self.text = \"Could not scrape website content\"\n",
    "            self.links = []\n",
    "        \n",
    "    def get_contents(self):\n",
    "        return f\"Webpage Title:\\n{self.title}\\nWebpage Contents:\\n{self.text}\\n\\n\""
   ]
  },
  {
   "cell_type": "code",
   "execution_count": 4,
   "id": "25f3684f-70a8-45ad-b3f9-dcfdd7c08704",
   "metadata": {},
   "outputs": [],
   "source": [
    "#web = Website(\"https://www.citibank.com.sg/\")\n",
    "#print(web.title)\n",
    "#print(web.text)\n",
    "#print(web.links)"
   ]
  },
  {
   "cell_type": "markdown",
   "id": "79d7f148-2524-4680-96a5-47981c83bb6a",
   "metadata": {},
   "source": [
    "# Build the system prompt for URL links"
   ]
  },
  {
   "cell_type": "code",
   "execution_count": 5,
   "id": "28b8ac1a-38aa-4507-99f6-87763e8a40db",
   "metadata": {},
   "outputs": [],
   "source": [
    "defineSystemPrompt = \"You are provided with a list of links found on a webpage. \\\n",
    "You are able to decide which of the links would be most relevant to include in a brochure about the company, \\\n",
    "such as links to an About page, or a Company page, or Careers/Jobs pages.\\n\"\n",
    "defineSystemPrompt += \"Your response must be valid JSON only.\\n\"\n",
    "defineSystemPrompt += \"Do not include any explanation, text, or Markdown code fences.\\n\"\n",
    "defineSystemPrompt += \"You MUST respond in JSON as in this example:\"\n",
    "defineSystemPrompt += \"\"\"\n",
    "{\n",
    "    \"links\": [\n",
    "        {\"type\": \"about page\", \"url\": \"https://full.url/goes/here/about\"},\n",
    "        {\"type\": \"careers page\", \"url\": \"https://another.full.url/careers\"}\n",
    "    ]\n",
    "}\n",
    "\"\"\""
   ]
  },
  {
   "cell_type": "code",
   "execution_count": 6,
   "id": "5cb6c76e-d683-4429-a389-c4b956e770e6",
   "metadata": {},
   "outputs": [],
   "source": [
    "#print(defineSystemPrompt)"
   ]
  },
  {
   "cell_type": "markdown",
   "id": "57d2c9f5-50e3-46c1-9a01-313cf4e2391c",
   "metadata": {},
   "source": [
    "# Build the user prompt for URL links"
   ]
  },
  {
   "cell_type": "code",
   "execution_count": 7,
   "id": "67ed5590-e4fe-4f31-8592-259076ea1aae",
   "metadata": {},
   "outputs": [],
   "source": [
    "# Function to build the user prompt for LLM\n",
    "def user_prompt_for_links(website):\n",
    "    user_prompt = f\"Here is the list of links on the website of {website.url} - \"\n",
    "    user_prompt += \"\\nplease decide which of these are relevant web links for a brochure about the company, respond with the full https URL in JSON format.\" \\\n",
    "                   \"\\nDo not include Terms of Service, Privacy, email links.\\n\"\n",
    "    \n",
    "    user_prompt += \"Links (some might be relative links):\\n\"\n",
    "    user_prompt += \"\\n\".join(website.links)\n",
    "    return user_prompt"
   ]
  },
  {
   "cell_type": "code",
   "execution_count": 8,
   "id": "b75cbc92-d7d0-40a4-9bf7-2499db21932f",
   "metadata": {},
   "outputs": [],
   "source": [
    "#print(user_prompt_for_links(web))"
   ]
  },
  {
   "cell_type": "markdown",
   "id": "24446f0c-f703-4bba-8de1-e0c1c8d25267",
   "metadata": {},
   "source": [
    "# Function to chat with LLM model"
   ]
  },
  {
   "cell_type": "code",
   "execution_count": 9,
   "id": "bf843747-7ecb-428d-b3cf-ca5e56483242",
   "metadata": {},
   "outputs": [],
   "source": [
    "def answer_with_llm(prompt: str,\n",
    "                    system_prompt=\"You are a good assistant\",\n",
    "                    max_tokens=512,\n",
    "                    client=nebius_client,\n",
    "                    model=llama_8b_model,\n",
    "                    prettify=True,\n",
    "                    stream=True,\n",
    "                    temperature=None) -> str:\n",
    "\n",
    "    messages = []\n",
    "\n",
    "    if system_prompt:\n",
    "        messages.append(\n",
    "            {\n",
    "                \"role\": \"system\",\n",
    "                \"content\": system_prompt\n",
    "            }\n",
    "        )\n",
    "\n",
    "    messages.append(\n",
    "        {\n",
    "            \"role\": \"user\",\n",
    "            \"content\": prompt\n",
    "        }\n",
    "    )\n",
    "\n",
    "    completion = client.chat.completions.create(\n",
    "        model=model,\n",
    "        messages=messages,\n",
    "        max_tokens=max_tokens,\n",
    "        temperature=temperature\n",
    "    )\n",
    "\n",
    "    #if prettify:\n",
    "    #    return prettify_string(completion.choices[0].message.content)\n",
    "   # else:\n",
    "    \n",
    "    return completion.choices[0].message.content"
   ]
  },
  {
   "cell_type": "markdown",
   "id": "1ff4355d-0948-4212-9e20-80be71190f41",
   "metadata": {},
   "source": [
    "# The function that helps to get relevant links by calling the LLM"
   ]
  },
  {
   "cell_type": "code",
   "execution_count": 10,
   "id": "d36e561a-19a0-4d87-9b09-8226b39a3eec",
   "metadata": {},
   "outputs": [],
   "source": [
    "def getLinks(url):\n",
    "    website = Website(url)\n",
    "    prompt = user_prompt_for_links(website)\n",
    "    rawResponse = answer_with_llm(prompt,defineSystemPrompt)\n",
    "    try:\n",
    "        # Convert JSON string into a Python dict\n",
    "        return json.loads(rawResponse)\n",
    "    except json.JSONDecodeError:\n",
    "        print(\"❌ LLM did not return valid JSON\")\n",
    "        return {\"links\": []}\n",
    "    #return answer_with_llm(prompt,defineSystemPrompt)"
   ]
  },
  {
   "cell_type": "markdown",
   "id": "4c169569-c645-4a12-9ddb-802b275f85bb",
   "metadata": {},
   "source": [
    "# Invoke action to view all links gathered from the website and view in JSON format"
   ]
  },
  {
   "cell_type": "code",
   "execution_count": 11,
   "id": "2a1638db-9e72-4b92-9e1d-ce1d59ad064f",
   "metadata": {},
   "outputs": [],
   "source": [
    "#getLinks(\"https://www.citigroup.com/global/businesses/services\")"
   ]
  },
  {
   "cell_type": "markdown",
   "id": "6ef50fef-bf1e-469b-ae8f-b2b5df49d6d2",
   "metadata": {},
   "source": [
    "# Build the brochure"
   ]
  },
  {
   "cell_type": "code",
   "execution_count": 12,
   "id": "dfb224b6-7387-4673-b502-4c29cc203850",
   "metadata": {},
   "outputs": [],
   "source": [
    "def get_all_details(url):\n",
    "    result = \"Landing page:\\n\"\n",
    "    result += Website(url).get_contents()\n",
    "    links = getLinks(url)\n",
    "\n",
    "    print(\"Found links:\", links)\n",
    "    for link in links[\"links\"]:\n",
    "        result += f\"\\n\\n{link['type']}\\n\"\n",
    "        result += Website(link[\"url\"]).get_contents()\n",
    "    return result"
   ]
  },
  {
   "cell_type": "code",
   "execution_count": 13,
   "id": "3a2e57a3-0bd5-4f27-8e50-051dc6c7ff83",
   "metadata": {
    "scrolled": true
   },
   "outputs": [],
   "source": [
    "#print(get_all_details(\"https://huggingface.co\"))"
   ]
  },
  {
   "cell_type": "code",
   "execution_count": 14,
   "id": "132d83ed-e209-4706-b7b9-ff43642ba73f",
   "metadata": {},
   "outputs": [],
   "source": [
    "system_prompt = \"You are an assistant that analyzes the contents of several relevant pages from a company website \\\n",
    "and creates a short brochure about the company for prospective customers, investors and recruits. Respond in markdown.\\\n",
    "Include details of company culture, customers and careers/jobs if you have the information.\"\n",
    "\n",
    "# Or uncomment the lines below for a more humorous brochure - this demonstrates how easy it is to incorporate 'tone':\n",
    "\n",
    "# system_prompt = \"You are an assistant that analyzes the contents of several relevant pages from a company website \\\n",
    "# and creates a short humorous, entertaining, jokey brochure about the company for prospective customers, investors and recruits. Respond in markdown.\\\n",
    "# Include details of company culture, customers and careers/jobs if you have the information.\"\n"
   ]
  },
  {
   "cell_type": "code",
   "execution_count": 15,
   "id": "f76a97a0-e101-44ba-8f7d-af548bb029b8",
   "metadata": {},
   "outputs": [],
   "source": [
    "def get_brochure_user_prompt(company_name, url):\n",
    "    user_prompt = f\"You are looking at a company called: {company_name}\\n\"\n",
    "    user_prompt += f\"Here are the contents of its landing page and other relevant pages; use this information to build a short brochure of the company in markdown.\\n\"\n",
    "    user_prompt += get_all_details(url)\n",
    "    user_prompt = user_prompt[:5_000] # Truncate if more than 5,000 characters\n",
    "    return user_prompt"
   ]
  },
  {
   "cell_type": "code",
   "execution_count": 16,
   "id": "e4c7614b-b8be-4bae-9bbc-fb2fd766eed0",
   "metadata": {},
   "outputs": [],
   "source": [
    "#get_brochure_user_prompt(\"HuggingFace\", \"https://huggingface.co\")"
   ]
  },
  {
   "cell_type": "code",
   "execution_count": 17,
   "id": "3b49a294-e49c-4838-bcac-3a4d3099011d",
   "metadata": {},
   "outputs": [],
   "source": [
    "def create_brochure(company_name, url):\n",
    "\n",
    "    brochureResult = answer_with_llm(get_brochure_user_prompt(company_name, url),system_prompt)\n",
    "    \n",
    "    display(Markdown(brochureResult))"
   ]
  },
  {
   "cell_type": "code",
   "execution_count": 19,
   "id": "74bb4de0-5265-4c51-9ec6-7cff4176efca",
   "metadata": {},
   "outputs": [
    {
     "name": "stdout",
     "output_type": "stream",
     "text": [
      "✅ Page loaded: Citi | Services\n",
      "✅ Page loaded: Citi | Services\n",
      "Found links: {'links': [{'type': 'about page', 'url': 'https://www.citigroup.com/global/about-us'}, {'type': 'about page', 'url': 'https://www.citigroup.com/global/about-us/strategy'}, {'type': 'about page', 'url': 'https://www.citigroup.com/global/about-us/leadership'}, {'type': 'about page', 'url': 'https://www.citigroup.com/global/about-us/global-presence'}, {'type': 'about page', 'url': 'https://www.citigroup.com/global/about-us/heritage'}, {'type': 'about page', 'url': 'https://www.citigroup.com/global/about-us/people-engagement-inclusion'}, {'type': 'careers page', 'url': 'https://jobs.citi.com/'}, {'type': 'alumni page', 'url': 'https://alumni.citi.com/'}, {'type': 'contact page', 'url': 'https://www.citigroup.com/global/contact-us'}, {'type': 'investors page', 'url': 'https://www.citigroup.com/global/investors'}, {'type': 'insights page', 'url': 'https://www.citigroup.com/global/insights'}, {'type': 'news page', 'url': 'https://www.citigroup.com/global/news'}, {'type': 'press release page', 'url': 'https://www.citigroup.com/global/news/press-release'}, {'type': 'careers page', 'url': 'https://jobs.citi.com/'}, {'type': 'our impact page', 'url': 'https://www.citigroup.com/global/our-impact'}, {'type': 'social media page', 'url': 'https://twitter.com/Citi'}, {'type': 'social media page', 'url': 'http://www.facebook.com/citi'}, {'type': 'social media page', 'url': 'http://www.youtube.com/citi'}, {'type': 'social media page', 'url': 'http://www.linkedin.com/company/citi'}, {'type': 'social media page', 'url': 'http://instagram.com/citi'}, {'type': 'services page', 'url': 'https://www.citigroup.com/global/businesses/services'}]}\n",
      "✅ Page loaded: Citi | About Us\n",
      "✅ Page loaded: Strategy | About Us | Citi\n",
      "✅ Page loaded: Citi's Executive Management Team and Leadership Team | Citi\n",
      "✅ Page loaded: Citi | Countries and Jurisdictions\n",
      "✅ Page loaded: Heritage | About Us | Citi\n",
      "✅ Page loaded: People, Engagement & Inclusion | Citi\n",
      "✅ Page loaded: Citi Careers | Find Your Next Opportunity\n",
      "✅ Page loaded: Home - Citi Alumni Network\n",
      "✅ Page loaded: Global Investment Bank and Financial Services | Citi\n",
      "✅ Page loaded: Investor Relations | Citi\n",
      "✅ Page loaded: Citi Institute | Insights | Citi\n",
      "✅ Page loaded: Citi News | Press Releases from Citi | Citi News Releases\n",
      "✅ Page loaded: Citi News | Press Releases from Citi | Citi News Releases\n",
      "✅ Page loaded: Citi Careers | Find Your Next Opportunity\n",
      "✅ Page loaded: Our Impact | Citi\n",
      "✅ Page loaded: Citi (@Citi) / X\n",
      "✅ Page loaded: Citi | Facebook\n",
      "✅ Page loaded: Citi - YouTube\n",
      "✅ Page loaded: Citi | LinkedIn\n",
      "✅ Page loaded: Citi (@citi) • Instagram photos and videos\n",
      "✅ Page loaded: Citi | Services\n"
     ]
    },
    {
     "data": {
      "text/markdown": [
       "Here is a short brochure about Citibank Transaction:\n",
       "\n",
       "**Welcome to Citibank Transaction**\n",
       "\n",
       "**About Us**\n",
       "\n",
       "At Citibank Transaction, we are a global bank that is uniquely positioned to navigate the complexities of the modern world. With a network that spans over 180 countries, we have the expertise and experience to connect the dots for our clients and deliver financial services that enable growth and economic progress.\n",
       "\n",
       "**Our Mission**\n",
       "\n",
       "Our mission is to serve as a trusted partner to our clients by responsibly providing financial services that enable growth and economic progress. We are committed to delivering excellence, taking ownership, and succeeding together.\n",
       "\n",
       "**Our Strengths**\n",
       "\n",
       "* **Global Presence**: We have a physical presence in 94 markets, allowing us to connect the dots and anticipate change.\n",
       "* **Financial Strength**: We manage nearly $5 trillion in financial flows, making us a leader in the industry.\n",
       "* **Client Base**: We serve 19,000 institutional clients, including 85% of Fortune 500 companies.\n",
       "* **ESG Commitment**: We have committed to $1+ trillion in ESG investments, playing a leading role in solving interconnected societal challenges.\n",
       "\n",
       "**Our Services**\n",
       "\n",
       "* **Liquidity Management**: We help our clients move, manage, and invest balances efficiently, while managing risk and optimizing financial outcomes.\n",
       "* **Banking and International**: We offer a range of banking and international services to meet the needs of our clients.\n",
       "* **Wealth**: We provide wealth management services to help our clients achieve their financial goals.\n",
       "\n",
       "**Our Culture**\n",
       "\n",
       "* **Diversity and Inclusion**: We are committed to creating a workplace that is inclusive and diverse.\n",
       "* **People, Engagement & Inclusion**: We prioritize the well-being and engagement of our employees.\n",
       "\n",
       "**Careers**\n",
       "\n",
       "If you are looking for a challenging and rewarding career, consider joining our team. We offer a range of career opportunities across our global network.\n",
       "\n",
       "**Investors**\n",
       "\n",
       "We welcome investors who share our vision for a more sustainable and inclusive financial system. Learn more about our quarterly earnings, events, and presentations.\n",
       "\n",
       "**Contact Us**\n",
       "\n",
       "For more information about Citibank Transaction, please visit our website or contact us directly.\n",
       "\n",
       "We hope this brochure provides a brief overview of our company and services. Thank you for considering Citibank Transaction as your partner in financial services."
      ],
      "text/plain": [
       "<IPython.core.display.Markdown object>"
      ]
     },
     "metadata": {},
     "output_type": "display_data"
    }
   ],
   "source": [
    "create_brochure(\"Citibank Transaction\", \"https://www.citigroup.com/global/businesses/services\")"
   ]
  },
  {
   "cell_type": "code",
   "execution_count": null,
   "id": "dc41e868-1679-4744-b0aa-a21cc3c72ed3",
   "metadata": {},
   "outputs": [],
   "source": []
  }
 ],
 "metadata": {
  "kernelspec": {
   "display_name": "Python [conda env:base] *",
   "language": "python",
   "name": "conda-base-py"
  },
  "language_info": {
   "codemirror_mode": {
    "name": "ipython",
    "version": 3
   },
   "file_extension": ".py",
   "mimetype": "text/x-python",
   "name": "python",
   "nbconvert_exporter": "python",
   "pygments_lexer": "ipython3",
   "version": "3.12.3"
  }
 },
 "nbformat": 4,
 "nbformat_minor": 5
}
